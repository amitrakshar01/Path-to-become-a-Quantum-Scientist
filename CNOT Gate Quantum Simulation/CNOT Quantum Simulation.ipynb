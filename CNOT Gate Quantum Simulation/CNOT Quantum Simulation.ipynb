{
 "cells": [
  {
   "cell_type": "code",
   "execution_count": 9,
   "metadata": {},
   "outputs": [],
   "source": [
    "import qiskit as qk"
   ]
  },
  {
   "cell_type": "code",
   "execution_count": 10,
   "metadata": {},
   "outputs": [
    {
     "name": "stdout",
     "output_type": "stream",
     "text": [
      "       ┌───┐     ┌─┐   \n",
      "q25_0: ┤ H ├──■──┤M├───\n",
      "       └───┘┌─┴─┐└╥┘┌─┐\n",
      "q25_1: ─────┤ X ├─╫─┤M├\n",
      "            └───┘ ║ └╥┘\n",
      " c3: 2/═══════════╩══╩═\n",
      "                  0  1 \n"
     ]
    }
   ],
   "source": [
    "q = qk.QuantumRegister(2) # Initiating 2 qubits\n",
    "c = qk.ClassicalRegister(2) # Initiating 2 classical bits\n",
    "circuit = qk.QuantumCircuit(q,c) # Preparing the Quantum Circuit\n",
    "circuit.h(q[0]) # Adding a Hadamard Gate to Qubit 0 to superpose with Qubit 1\n",
    "circuit.cx(q[0] , q[1]) # CNOT gate added as esplained: Qubit 0 and Qubit 1 connected\n",
    "circuit.measure(q , c) # Measuring\n",
    "print(circuit)"
   ]
  },
  {
   "cell_type": "code",
   "execution_count": 12,
   "metadata": {},
   "outputs": [
    {
     "name": "stdout",
     "output_type": "stream",
     "text": [
      "{'11': 497, '00': 527}\n"
     ]
    }
   ],
   "source": [
    "simulator = qk.BasicAer.get_backend('qasm_simulator') # Using a Quantum Simulator on Local Machine for simulation\n",
    "job = qk.execute(circuit , simulator)\n",
    "output = job.result()\n",
    "\n",
    "counts = output.get_counts(circuit) # get_counts returns the binary outcome\n",
    "print(counts)"
   ]
  },
  {
   "cell_type": "code",
   "execution_count": null,
   "metadata": {},
   "outputs": [],
   "source": []
  }
 ],
 "metadata": {
  "kernelspec": {
   "display_name": "Python 3",
   "language": "python",
   "name": "python3"
  },
  "language_info": {
   "codemirror_mode": {
    "name": "ipython",
    "version": 3
   },
   "file_extension": ".py",
   "mimetype": "text/x-python",
   "name": "python",
   "nbconvert_exporter": "python",
   "pygments_lexer": "ipython3",
   "version": "3.8.5"
  }
 },
 "nbformat": 4,
 "nbformat_minor": 4
}
