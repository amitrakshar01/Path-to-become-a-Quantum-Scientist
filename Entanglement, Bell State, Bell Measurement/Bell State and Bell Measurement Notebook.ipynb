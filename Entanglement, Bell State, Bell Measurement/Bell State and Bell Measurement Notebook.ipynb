{
 "cells": [
  {
   "cell_type": "code",
   "execution_count": 5,
   "metadata": {},
   "outputs": [],
   "source": [
    "import qiskit as qk"
   ]
  },
  {
   "cell_type": "markdown",
   "metadata": {},
   "source": [
    "# Bell State\n",
    "\n",
    "Hadamard Gate on Qubit 0\n",
    "<br>CNOT Gate on Qubit 1 Controlled on Qubit 0"
   ]
  },
  {
   "cell_type": "code",
   "execution_count": 6,
   "metadata": {},
   "outputs": [
    {
     "name": "stdout",
     "output_type": "stream",
     "text": [
      "      ┌───┐     ┌─┐   \n",
      "q2_0: ┤ H ├──■──┤M├───\n",
      "      └───┘┌─┴─┐└╥┘┌─┐\n",
      "q2_1: ─────┤ X ├─╫─┤M├\n",
      "           └───┘ ║ └╥┘\n",
      "c2: 2/═══════════╩══╩═\n",
      "                 0  1 \n"
     ]
    }
   ],
   "source": [
    "q = qk.QuantumRegister(2)\n",
    "c = qk.ClassicalRegister(2)\n",
    "circuit = qk.QuantumCircuit(q , c)\n",
    "circuit.h(q[0])\n",
    "circuit.cx(q[0] , q[1])\n",
    "circuit.measure(q[0] , c[0])\n",
    "circuit.measure(q[1] , c[1])\n",
    "print(circuit)"
   ]
  },
  {
   "cell_type": "markdown",
   "metadata": {},
   "source": [
    "# Bell Measurement\n",
    "\n",
    "CNOT Gate on Qubit 1 controlled on Qubit 0\n",
    "<br>Hadamard Gate on Qubit 0\n",
    "<br>Sigma X Gate on both Qubit 0 and Qubit 1"
   ]
  },
  {
   "cell_type": "code",
   "execution_count": 8,
   "metadata": {},
   "outputs": [
    {
     "name": "stdout",
     "output_type": "stream",
     "text": [
      "           ┌───┐┌───┐┌─┐\n",
      "q4_0: ──■──┤ H ├┤ X ├┤M├\n",
      "      ┌─┴─┐├───┤└┬─┬┘└╥┘\n",
      "q4_1: ┤ X ├┤ X ├─┤M├──╫─\n",
      "      └───┘└───┘ └╥┘  ║ \n",
      "c4: 2/════════════╩═══╩═\n",
      "                  1   0 \n"
     ]
    }
   ],
   "source": [
    "qm = qk.QuantumRegister(2)\n",
    "cm = qk.ClassicalRegister(2)\n",
    "circuitm = qk.QuantumCircuit(qm , cm)\n",
    "circuitm.cx(qm[0] , qm[1])\n",
    "circuitm.h(qm[0])\n",
    "circuitm.x(qm[0])\n",
    "circuitm.x(qm[1])\n",
    "circuitm.measure(qm[0] , cm[0])\n",
    "circuitm.measure(qm[1] , cm[1])\n",
    "print(circuitm)"
   ]
  }
 ],
 "metadata": {
  "kernelspec": {
   "display_name": "Python 3",
   "language": "python",
   "name": "python3"
  },
  "language_info": {
   "codemirror_mode": {
    "name": "ipython",
    "version": 3
   },
   "file_extension": ".py",
   "mimetype": "text/x-python",
   "name": "python",
   "nbconvert_exporter": "python",
   "pygments_lexer": "ipython3",
   "version": "3.8.5"
  }
 },
 "nbformat": 4,
 "nbformat_minor": 4
}
